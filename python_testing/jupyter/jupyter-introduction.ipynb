{
 "cells": [
  {
   "cell_type": "markdown",
   "source": [
    "# Demographics Related to College Majors - Nathan Strong Jupyter Test\n",
    "\n",
    "## What are the some of the demographics and social affects related to majors?\n",
    "\n",
    "### Fields Being Tracked:\n",
    "\n",
    "__FOD1P - Recoded field of degree - first entry__<br>\n",
    "__FOD2P - Recoded field of degree - second entry__<br>\n",
    "__SEX - Sex__ (1 = male, 2=female)<br>\n",
    "__AGEP - Age__<br>\n",
    "__SCH - School enrollment:__<br>\n",
    "b    .N/A (less than 3 years old)\n",
    "<br>1    .No, has not attended in the last 3 months\n",
    "<br>2    .Yes, public school or public college\n",
    "<br>3    .Yes, private school or college or home school\n",
    "<br><br>\n",
    "__RAC1P - Recoded detailed race code__\n",
    "<br>1    .White alone\n",
    "<br>2    .Black or African American alone\n",
    "<br>3    .American Indian alone\n",
    "<br>4    .Alaska Native alone\n",
    "<br>5    .American Indian and Alaska Native tribes specified; or American Indian or Al\n",
    "NATIVITY - Nativity<br>\n",
    "__NOP - Nativity of parent__\n",
    "<br>1    .Native\n",
    "<br>2    .Foreign born"
   ],
   "metadata": {
    "collapsed": false
   }
  },
  {
   "cell_type": "code",
   "execution_count": null,
   "outputs": [],
   "source": [
    "%matplotlib inline\n",
    "import pandas as pd\n",
    "import os\n",
    "import seaborn as sns"
   ],
   "metadata": {
    "collapsed": false,
    "pycharm": {
     "name": "#%%\n"
    }
   }
  },
  {
   "cell_type": "code",
   "execution_count": null,
   "outputs": [],
   "source": [
    "pums_dir='/Users/strong/Desktop/UCLA Data Science/module 0/Jupyter/csv_pus/'\n",
    "pums_file='psam_pusa.csv'\n",
    "df = pd.read_csv(os.path.join(pums_dir, pums_file))"
   ],
   "metadata": {
    "collapsed": false,
    "pycharm": {
     "name": "#%%\n"
    }
   }
  },
  {
   "cell_type": "code",
   "execution_count": null,
   "outputs": [],
   "source": [
    "df.head(5)"
   ],
   "metadata": {
    "collapsed": false,
    "pycharm": {
     "name": "#%%\n"
    }
   }
  },
  {
   "cell_type": "code",
   "execution_count": null,
   "outputs": [],
   "source": [
    "df = df[['FOD1P', 'SEX', 'AGEP', 'SCH', 'RAC1P', 'NATIVITY']]"
   ],
   "metadata": {
    "collapsed": false,
    "pycharm": {
     "name": "#%%\n"
    }
   }
  },
  {
   "cell_type": "code",
   "execution_count": null,
   "outputs": [],
   "source": [
    "df.describe()"
   ],
   "metadata": {
    "collapsed": false,
    "pycharm": {
     "name": "#%%\n"
    }
   }
  },
  {
   "cell_type": "code",
   "execution_count": null,
   "outputs": [],
   "source": [
    "originalCountOfData = len(df)\n",
    "print(f\"original count of data: {originalCountOfData}\")"
   ],
   "metadata": {
    "collapsed": false,
    "pycharm": {
     "name": "#%%\n"
    }
   }
  },
  {
   "cell_type": "code",
   "execution_count": null,
   "outputs": [],
   "source": [
    "print('Percentage of null values per-column:')\n",
    "(df.isna().sum() / len(df)) * 100"
   ],
   "metadata": {
    "collapsed": false,
    "pycharm": {
     "name": "#%%\n"
    }
   }
  },
  {
   "cell_type": "code",
   "execution_count": null,
   "outputs": [],
   "source": [
    "# Remove rows with NaN rows\n",
    "df = df.dropna()\n",
    "newCountOfData = len(df)\n",
    "print(f'Count of data without null values: {newCountOfData}')\n",
    "print(f'Percecentage of data thrown out: {(originalCountOfData - newCountOfData) / originalCountOfData}')"
   ],
   "metadata": {
    "collapsed": false,
    "pycharm": {
     "name": "#%%\n"
    }
   }
  },
  {
   "cell_type": "markdown",
   "source": [
    "## Get data for college majors"
   ],
   "metadata": {
    "collapsed": false
   }
  },
  {
   "cell_type": "code",
   "execution_count": null,
   "outputs": [],
   "source": [
    "majors_dir='/Users/strong/Desktop/UCLA Data Science/module 0/Jupyter'\n",
    "majors_file='majors-list.csv'\n",
    "dfMajors = pd.read_csv(os.path.join(majors_dir, majors_file))"
   ],
   "metadata": {
    "collapsed": false,
    "pycharm": {
     "name": "#%%\n"
    }
   }
  },
  {
   "cell_type": "code",
   "execution_count": null,
   "outputs": [],
   "source": [
    "# Convert all strings to numbers and remove the NaN rows\n",
    "dfMajors['FOD1P'] = pd.to_numeric(dfMajors['FOD1P'], errors='coerce')\n",
    "dfMajors.dropna()"
   ],
   "metadata": {
    "collapsed": false,
    "pycharm": {
     "name": "#%%\n"
    }
   }
  },
  {
   "cell_type": "markdown",
   "source": [
    "# Merge Data from Both Tables"
   ],
   "metadata": {
    "collapsed": false
   }
  },
  {
   "cell_type": "code",
   "execution_count": null,
   "outputs": [],
   "source": [
    "dfFinal = pd.merge(df, dfMajors, how='inner', on='FOD1P')\n",
    "dfFinal.head(1)"
   ],
   "metadata": {
    "collapsed": false,
    "pycharm": {
     "name": "#%%\n"
    }
   }
  },
  {
   "cell_type": "code",
   "execution_count": null,
   "outputs": [],
   "source": [
    "# Change the Sex Column Cells from 1 & 2 to \"Male\" & \"Female\"\n",
    "dfFinal['SEX'] = dfFinal['SEX'].map({1: 'Male', 2: 'Female'}).to_frame()\n",
    "# Change the Nativity Column Cells from 1 & 2 to \"Native\" & \"Foreign Born\"\n",
    "dfFinal['NATIVITY'] = dfFinal['NATIVITY'].map({1: 'Native', 2: 'Foreign born'}).to_frame()"
   ],
   "metadata": {
    "collapsed": false,
    "pycharm": {
     "name": "#%%\n"
    }
   }
  },
  {
   "cell_type": "markdown",
   "source": [
    "# Okay, Lets Start with the Data Analysis Now..\n",
    "# The Question - What is the Relationship Between Demographics and Majors?\n",
    "\n",
    "### Lets first see the distrobution of data.\n",
    "### What is the Male to Female ratio in our data?"
   ],
   "metadata": {
    "collapsed": false
   }
  },
  {
   "cell_type": "code",
   "execution_count": null,
   "outputs": [],
   "source": [
    "females_in_data_percentage = int(dfFinal['SEX'].value_counts(normalize=True)['Female'].round(2) * 100)\n",
    "males_in_data_percentage =  int(dfFinal['SEX'].value_counts(normalize=True)['Male'].round(2) * 100)\n",
    "print(f\"Female: {females_in_data_percentage}% / {males_in_data_percentage}% : Male\")"
   ],
   "metadata": {
    "collapsed": false,
    "pycharm": {
     "name": "#%%\n"
    }
   }
  },
  {
   "cell_type": "markdown",
   "source": [
    "### What are their ages?"
   ],
   "metadata": {
    "collapsed": false
   }
  },
  {
   "cell_type": "code",
   "execution_count": null,
   "outputs": [],
   "source": [
    "print(dfFinal['AGEP'].describe().round(1))\n",
    "\n",
    "mostCommonAge = dfFinal['AGEP'].value_counts().idxmax()\n",
    "mostCommonAgeCount = dfFinal['AGEP'].value_counts().max()\n",
    "mostCommonAgePercentage = (mostCommonAgeCount / dfFinal['AGEP'].count().sum()).round(3) * 100\n",
    "print(f\"Most common age is: {mostCommonAge} ({mostCommonAgeCount} people) at {mostCommonAgePercentage}% of the data.\")"
   ],
   "metadata": {
    "collapsed": false,
    "pycharm": {
     "name": "#%%\n"
    }
   }
  },
  {
   "cell_type": "markdown",
   "source": [
    "## What are the most common majors?"
   ],
   "metadata": {
    "collapsed": false
   }
  },
  {
   "cell_type": "code",
   "execution_count": null,
   "outputs": [],
   "source": [
    "mostCommonMajor = dfFinal['Major'].value_counts().idxmax()\n",
    "mostCommonMajorCount = dfFinal['Major'].value_counts().max()\n",
    "mostCommonMajorPercentage = (mostCommonMajorCount / dfFinal['Major'].count().sum()).round(2) * 100\n",
    "uniqueMajorCount = dfFinal['Major'].nunique()\n",
    "\n",
    "print(f\"Most common major is: {mostCommonMajor} ({mostCommonMajorCount} people) at {mostCommonMajorPercentage}% of the data.\")\n",
    "print(f\"There are {uniqueMajorCount} Majors in total.\")"
   ],
   "metadata": {
    "collapsed": false,
    "pycharm": {
     "name": "#%%\n"
    }
   }
  },
  {
   "cell_type": "code",
   "execution_count": null,
   "outputs": [],
   "source": [
    "hist = dfFinal['Major'].hist(bins=uniqueMajorCount, histtype='step')"
   ],
   "metadata": {
    "collapsed": false,
    "pycharm": {
     "name": "#%%\n"
    }
   }
  },
  {
   "cell_type": "markdown",
   "source": [
    "## Pivot data by Gender vs. Gender"
   ],
   "metadata": {
    "collapsed": false
   }
  },
  {
   "cell_type": "code",
   "execution_count": null,
   "outputs": [],
   "source": [
    "dfMajorsByGender = dfFinal.groupby(['Major','SEX']).count()\n",
    "dfMajorsByGenderPercent = dfMajorsByGender / dfFinal.groupby(['Major']).count()\n",
    "dfMajorsByGenderPercent = dfMajorsByGenderPercent[['AGEP']]\n",
    "dfMajorsByGenderPercent = dfMajorsByGenderPercent.rename(index=str, columns={\"AGEP\":\"PercentOfTotal\"})"
   ],
   "metadata": {
    "collapsed": false,
    "pycharm": {
     "name": "#%%\n"
    }
   }
  },
  {
   "cell_type": "code",
   "execution_count": null,
   "outputs": [],
   "source": [
    "dfMajorsByGenderPercent"
   ],
   "metadata": {
    "collapsed": false,
    "pycharm": {
     "name": "#%%\n"
    }
   }
  },
  {
   "cell_type": "code",
   "execution_count": null,
   "outputs": [],
   "source": [
    "dfFinalMerge = pd.merge(dfMajorsByGender, dfMajorsByGenderPercent, how='inner', on=('Major', 'SEX'))\n",
    "dfFinalMerge = dfFinalMerge[['AGEP', 'PercentOfTotal']]\n",
    "dfFinalMerge = dfFinalMerge.rename(index=str, columns={\"AGEP\":\"Total\"})"
   ],
   "metadata": {
    "collapsed": false,
    "pycharm": {
     "name": "#%%\n"
    }
   }
  },
  {
   "cell_type": "code",
   "execution_count": null,
   "outputs": [],
   "source": [
    "dfFinalMerge.sort_values('Total', ascending=False)\n",
    "dfFinalMerge.sort_values(['Total','PercentOfTotal'], ascending=False)\n",
    "dfFinalMerge.reset_index(inplace=True)\n",
    "dfFinalMerge"
   ],
   "metadata": {
    "collapsed": false,
    "pycharm": {
     "name": "#%%\n"
    }
   }
  },
  {
   "cell_type": "code",
   "execution_count": null,
   "outputs": [],
   "source": [
    "dfFemale = dfFinalMerge[dfFinalMerge['SEX'] == \"Female\"]\n",
    "dfFemale = dfFemale.sort_values(['PercentOfTotal'], ascending=False)\n",
    "dfFemale.head(20)"
   ],
   "metadata": {
    "collapsed": false,
    "pycharm": {
     "name": "#%%\n"
    }
   }
  },
  {
   "cell_type": "code",
   "execution_count": null,
   "outputs": [],
   "source": [
    "dfMale = dfFinalMerge[dfFinalMerge['SEX'] == \"Male\"]\n",
    "dfMale = dfMale.sort_values(['PercentOfTotal'], ascending=False)\n",
    "dfMale.head(20)"
   ],
   "metadata": {
    "collapsed": false,
    "pycharm": {
     "name": "#%%\n"
    }
   }
  },
  {
   "cell_type": "code",
   "execution_count": null,
   "outputs": [],
   "source": [],
   "metadata": {
    "collapsed": false,
    "pycharm": {
     "name": "#%%\n"
    }
   }
  }
 ],
 "metadata": {
  "kernelspec": {
   "display_name": "Python 3",
   "language": "python",
   "name": "python3"
  },
  "language_info": {
   "codemirror_mode": {
    "name": "ipython",
    "version": 3
   },
   "file_extension": ".py",
   "mimetype": "text/x-python",
   "name": "python",
   "nbconvert_exporter": "python",
   "pygments_lexer": "ipython3",
   "version": "3.7.6"
  }
 },
 "nbformat": 4,
 "nbformat_minor": 4
}