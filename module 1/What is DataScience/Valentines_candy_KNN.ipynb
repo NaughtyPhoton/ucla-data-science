{
 "cells": [
  {
   "cell_type": "code",
   "execution_count": null,
   "metadata": {},
   "outputs": [],
   "source": [
    "####### Enviornment setup\n",
    "rm(list = ls())\n",
    "\n",
    "# Has the knn function\n",
    "library(class)"
   ]
  },
  {
   "cell_type": "code",
   "execution_count": null,
   "metadata": {},
   "outputs": [],
   "source": [
    "####### Data pull\n",
    "#Path\n",
    "rootPathVar <- \"/Users/strong/Desktop/UCLA Data Science/module 1/What is DataScience/\"\n",
    "valentineTreats <- read.csv(paste(rootPathVar,\"ValentinesTreats.csv\",  sep=\"\"), header = TRUE)"
   ]
  },
  {
   "cell_type": "code",
   "execution_count": null,
   "metadata": {},
   "outputs": [],
   "source": [
    "dim(valentineTreats)"
   ]
  },
  {
   "cell_type": "code",
   "execution_count": null,
   "metadata": {},
   "outputs": [],
   "source": []
  }
 ],
 "metadata": {
  "kernelspec": {
   "display_name": "R",
   "language": "R",
   "name": "ir"
  },
  "language_info": {
   "name": ""
  }
 },
 "nbformat": 4,
 "nbformat_minor": 4
}
