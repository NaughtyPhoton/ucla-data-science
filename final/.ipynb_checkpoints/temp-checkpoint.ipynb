{
 "cells": [
  {
   "cell_type": "markdown",
   "metadata": {},
   "source": [
    "#### Forward\n",
    "I will be comparing two algorithms, Naive Bayes and K-Means Clustering. Naive Bayes will be refered to as a supervised algorithm, although it can be utilized as an unsupervised algorithm; and K-Means Clustering will be refered to as an unsupervised algoirthm, although it can be used as a supervised algorithm.  \n",
    "### Supervised vs Unsupervised Algorithms"
   ]
  }
 ],
 "metadata": {
  "kernelspec": {
   "display_name": "Python 3",
   "language": "python",
   "name": "python3"
  },
  "language_info": {
   "codemirror_mode": {
    "name": "ipython",
    "version": 3
   },
   "file_extension": ".py",
   "mimetype": "text/x-python",
   "name": "python",
   "nbconvert_exporter": "python",
   "pygments_lexer": "ipython3",
   "version": "3.8.3"
  }
 },
 "nbformat": 4,
 "nbformat_minor": 4
}
