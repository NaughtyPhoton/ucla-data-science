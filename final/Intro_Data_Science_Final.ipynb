{
 "cells": [
  {
   "cell_type": "markdown",
   "metadata": {},
   "source": [
    "UCLA Extension - Introduction to Data Science\n",
    "<br>COM SCI X 450.1\n",
    "<br>Author: Nathan Strong\n",
    "<br>Instructor: Ali El-Annan\n",
    "<br>Date: May 2020"
   ]
  },
  {
   "cell_type": "markdown",
   "metadata": {},
   "source": [
    "# Part 1: Comparing the databases MongoDB (SQL) and Google Firestore (NoSQL)\n",
    "# Part 2: Comparing algorithms Naive Bayes (supervised) and K-Means Clustering (unsupervised)"
   ]
  },
  {
   "cell_type": "markdown",
   "metadata": {},
   "source": [
    "### Forward\n",
    "This essay will compare and contrast two popular databses as well as two popular algorithms.  None of the math for the algorithms is my own (obviously), but the code to generate the following examples is mine -- It can be downloaded from my GitHub repo here: https://github.com/NaughtyPhoton/ucla-data-science\n",
    "\n",
    "### The Study -- What is the Most Popular Programming Language as Decided by Twitter\n",
    "As a means of displaying the databases and algorithms in action, I will be doing a \"study\" of preferred programming languages as decided by Twitter.  This study is merely a vehicle to depict the technology in question. \n",
    "<br>The programming languages I would like to examine are the 5 \"Most Loved\" programming languages of 2019 as voted by the Stack Overflow Community in their Annual Developer's Survey: https://insights.stackoverflow.com/survey/2019"
   ]
  },
  {
   "cell_type": "code",
   "execution_count": null,
   "metadata": {},
   "outputs": [],
   "source": [
    "from typing import Tuple\n",
    "\n",
    "# In order of most loved -> least loved\n",
    "SO_MOST_LOVED: Tuple[str] = ('Rust', 'Python', 'TypeScript', 'Kotlin', 'WebAssembly')"
   ]
  },
  {
   "cell_type": "markdown",
   "metadata": {},
   "source": [
    "### Getting the Data\n",
    "Using the Python library Twython I can search for Tweets. Ideally, I would collect all the tweets mentioning our most loved languages within the past year, however, the Twitter API won't allow you to return that many. Insted, I'll use the Twython.TwythonStreamer class to collect tweets while listening for a period of time.  I've already extended the TwythonStreamer class in another file to compress this document."
   ]
  },
  {
   "cell_type": "code",
   "execution_count": 10,
   "metadata": {},
   "outputs": [
    {
     "name": "stdout",
     "output_type": "stream",
     "text": [
      "Tweet(text='@tp_eater i love matlab tbh. although we learned julia in a second year methods course and it was pretty awesome an… https://t.co/6a7m8VlsgM', date=datetime.datetime(2020, 5, 28, 16, 3, 43, tzinfo=tzutc()), user_handle='fuiud', user_description='feminine like sandals', hashtags=[])\n",
      "Tweet(text='السلام عليكم \\nمسار لغة Python لل Web Developer \\nالمسار مفيهوش خطوات كتيرة \\nلكن كل خطوة هتقعد فيها شوية حلوين أوي :D… https://t.co/gV4eNZK86o', date=datetime.datetime(2020, 5, 28, 16, 3, 44, tzinfo=tzutc()), user_handle='Osama_Elzero', user_description='Addicted To Programming. #ElzeroWebSchool', hashtags=[])\n",
      "Tweet(text='discordのbot導入、python実行エラーで頓挫してる\\nffmpegが見つからんみたい\\nPATHは通ってるはずなんだけどなぁ', date=datetime.datetime(2020, 5, 28, 16, 3, 49, tzinfo=tzutc()), user_handle='_rave_world', user_description='邪神氏がブコアの話をしないアカウント(特に裏垢とかではない)', hashtags=[])\n",
      "Tweet(text='RT @mkoeppe_math: Haroldo G. Santos @unxusr on the design of Python-MIP https://t.co/G5pBO5VpK4', date=datetime.datetime(2020, 5, 28, 16, 3, 50, tzinfo=tzutc()), user_handle='CronusMaster', user_description='Cronus measure is a deterministic, astrophysical measure governing the S&P500, Natural Gas, and U.S. Long Bond. Charts pinned. GT QCF Alumnus @GeorgiaTechISyE', hashtags=[])\n",
      "Tweet(text='✔️ Python: Control Flow\\n\\n- Conditional Statements\\n- Boolean Expressions\\n- For Loops\\n- While Loops\\n- Break and Conti… https://t.co/kp9MkkNDfS', date=datetime.datetime(2020, 5, 28, 16, 4, 2, tzinfo=tzutc()), user_handle='mandy_mashburn', user_description='Forever debating if I’m in the mood for a cup of Earl Grey or an Americano | Technical Analyst seeking a position in DFW or Austin | Check out my LinkedIn 👇🏻', hashtags=[])\n",
      "Tweet(text=\"That's how I learned how to create my first package!!!👏🌟Thank you sooo much!\", date=datetime.datetime(2020, 5, 28, 16, 4, 4, tzinfo=tzutc()), user_handle='fu_yingying', user_description='Explore with me using Pandas🐼, Koalas🐨, and PySpark🌟 to solve challenges in Finance, Insurance and Accounting \\n#Finance #Insurance #Python #PySpark #Data', hashtags=[])\n",
      "Tweet(text='Spectacle in comedy can be funny — sticking with Monty Python, a lot of the best jokes in Life of Brian depend on t… https://t.co/UiXzDMGZsT', date=datetime.datetime(2020, 5, 28, 16, 4, 4, tzinfo=tzutc()), user_handle='sepinwall', user_description='Chief TV critic for Rolling Stone, author. The Sopranos Sessions: https://bit.ly/2Bsut35 Email: asepinwall@rollingstone.com', hashtags=[])\n",
      "Tweet(text='RT @Haruka2003_exe: コンピューターの天才 ７つのPythonを操る https://t.co/ujcjNvMBgb', date=datetime.datetime(2020, 5, 28, 16, 4, 8, tzinfo=tzutc()), user_handle='Nomunomunonomu', user_description='劇団THEわらわ座の第５期座長。(@THEwarawaza) 新入団員常時募集中、DM等どうぞ！創作活動のあれこれについて呟きます。演劇に関する卒論を予定中。教育に関しても思考中。', hashtags=[])\n",
      "Tweet(text=\"RT @iykimo: Kanu supporters didn't kill anybody when Python Dance was launched.\\n\\nArmed bandits&amp;herdsmen militia have been killing people pr…\", date=datetime.datetime(2020, 5, 28, 16, 4, 12, tzinfo=tzutc()), user_handle='UcheUcheif', user_description='9ja', hashtags=[])\n",
      "Tweet(text='5月28日\\n\\n○Progate PythonⅡ 9\\n\\n○幸せになる勇気\\u3000完読\\n\\n○テキスト\\u3000訳\\n\\n○説明会\\n\\n○日経新聞で情報収集\\nインスタでのアウトプット\\u3000\\n\\n早起き、筋トレ特に腹筋\\n\\n#プログラミング\\u3000#中国語\\u3000#1日振り返り\\n#日誌\\u3000#就活生\\u3000#21卒 #21卒就活', date=datetime.datetime(2020, 5, 28, 16, 4, 20, tzinfo=tzutc()), user_handle='ren0215tennis', user_description='#21卒 北 経済学部国際コース ／IT企業志望 ／世の中の当たり前をITで変えていきたい／中国語 プログラミング／インスタ https://www.instagram.com/itiren__gram', hashtags=[])\n",
      "Tweet(text='6 Free Data Science Books. #BigData #Analytics #AI #MachineLearning #Hadoop #DataScience #NLProc #IoT #IIoT #Python… https://t.co/bXsYXZr9Bs', date=datetime.datetime(2020, 5, 28, 16, 4, 21, tzinfo=tzutc()), user_handle='EdKwedar', user_description='#Technology #Cloud #IoT #BigData #DevOps #Healthcare #ML #CyberSecurity #DigitalMarketing #AI #M2M #Analytics #Blockchain #FinTech', hashtags=[])\n",
      "Tweet(text='RT @EdKwedar: 6 Free Data Science Books. #BigData #Analytics #AI #MachineLearning #Hadoop #DataScience #NLProc #IoT #IIoT #Python #RStats #…', date=datetime.datetime(2020, 5, 28, 16, 4, 25, tzinfo=tzutc()), user_handle='Taieb_Bot', user_description='I retweet all about #100DaysOfCode #Javascript and my mother country #Tunisia created by @Filsdelarabe', hashtags=[])\n",
      "Tweet(text='RT @EdKwedar: 6 Free Data Science Books. #BigData #Analytics #AI #MachineLearning #Hadoop #DataScience #NLProc #IoT #IIoT #Python #RStats #…', date=datetime.datetime(2020, 5, 28, 16, 4, 27, tzinfo=tzutc()), user_handle='learn__together', user_description=\"I am a bot 🤖 I am created by @toshiyamarukubo to retweet specific hashtags, #100DaysOfCode #WomenWhoCode and so on. Let's learn together 😃\", hashtags=[])\n",
      "Tweet(text='RT @lwp_: #Código de #Python - Control de estudiantes, asignaturas y notas https://t.co/1N0Grl378k https://t.co/iu2vCsddsY', date=datetime.datetime(2020, 5, 28, 16, 4, 32, tzinfo=tzutc()), user_handle='duvantor77', user_description=None, hashtags=[])\n",
      "Tweet(text='RT @EdKwedar: 6 Free Data Science Books. #BigData #Analytics #AI #MachineLearning #Hadoop #DataScience #NLProc #IoT #IIoT #Python #RStats #…', date=datetime.datetime(2020, 5, 28, 16, 4, 33, tzinfo=tzutc()), user_handle='AltBot4', user_description='I retweet all about   #altcampus, #javascript,  #codeNewbie', hashtags=[])\n",
      "Tweet(text='Show HN: Karate Club – A Python library for machine learning on graphs https://t.co/ZbIs4lh2dm https://t.co/ujmUJutaAX', date=datetime.datetime(2020, 5, 28, 16, 4, 34, tzinfo=tzutc()), user_handle='Fox_Marc_yTw', user_description='Latest Twitch video: Jugando con subs!! Comenta por el chat para entrar https://ift.tt/2W8dVas', hashtags=[])\n",
      "Recieved 28 during 1 minutes.\n"
     ]
    }
   ],
   "source": [
    "from typing import List\n",
    "import time\n",
    "from custom_streamer import CustomStreamer\n",
    "from tweet import Tweet\n",
    "\n",
    "MINUTES_TO_LISTEN = 1\n",
    "\n",
    "twitterStreamer = CustomStreamer(minutes_to_listen=MINUTES_TO_LISTEN)\n",
    "twitterStreamer.statuses.filter(track='Python')\n",
    "tweets: List[Tweet] = twitterStreamer.tweets\n",
    "    \n",
    "print(f'Recieved {len(tweets)} tweets during {MINUTES_TO_LISTEN} minutes.')"
   ]
  },
  {
   "cell_type": "markdown",
   "metadata": {},
   "source": [
    "# Part 1.1 - MongoDB (SQL)\n"
   ]
  }
 ],
 "metadata": {
  "kernelspec": {
   "display_name": "Python 3",
   "language": "python",
   "name": "python3"
  },
  "language_info": {
   "codemirror_mode": {
    "name": "ipython",
    "version": 3
   },
   "file_extension": ".py",
   "mimetype": "text/x-python",
   "name": "python",
   "nbconvert_exporter": "python",
   "pygments_lexer": "ipython3",
   "version": "3.8.3"
  }
 },
 "nbformat": 4,
 "nbformat_minor": 4
}
