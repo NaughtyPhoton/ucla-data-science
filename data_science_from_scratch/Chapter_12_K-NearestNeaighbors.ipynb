{
 "cells": [
  {
   "cell_type": "markdown",
   "metadata": {},
   "source": [
    "# k-Nearest Neighbors\n",
    "Imagine that you’re trying to predict how I’m going to vote in the next presidential election. If you know nothing else about me (and if you have the data), one sensible approach is to look at how my neighbors are planning to vote. Living in Seattle, as I do, my neighbors are invariably planning to vote for the Democratic candidate, which suggests that “Democratic candidate” is a good guess for me as well. Now imagine you know more about me than just geography — perhaps you know my age, my income, how many kids I have, and so on. To the extent my behavior is influenced (or characterized) by those things, looking just at my neighbors who are close to me among all those dimensions seems likely to be an even better predictor than looking at all my neighbors. This is the idea behind nearest neighbors classification.\n"
   ]
  },
  {
   "cell_type": "markdown",
   "metadata": {},
   "source": [
    "## The Model\n",
    "Nearest Neighbors is one of the simplest predictive models there is.  It makes no mathematical assumptions, and it doesn't require any sort of heavy machinery.  The only things it requires are:\n",
    "- Some notion of distance\n",
    "- An assumption that points that points that are close togehter are similar\n",
    "\n",
    "Nearest neighbors quite conciously  neglects a lot of information, since the prediction for each point requires only  on the handful of points closest to it.\n",
    "\n",
    "Nearest Neighbors is probably not going to help you understand the drivers of whatever phenomenon you're looking at.  Predicting my votes presidential vote based on my neighbor's votes doesn't tell you much about what cuases me to vote the way that I do, whereas some other model that predicted my vote based on my age, salary, marital status might.\n"
   ]
  }
 ],
 "metadata": {
  "kernelspec": {
   "display_name": "Python 3",
   "language": "python",
   "name": "python3"
  },
  "language_info": {
   "codemirror_mode": {
    "name": "ipython",
    "version": 3
   },
   "file_extension": ".py",
   "mimetype": "text/x-python",
   "name": "python",
   "nbconvert_exporter": "python",
   "pygments_lexer": "ipython3",
   "version": "3.7.6"
  }
 },
 "nbformat": 4,
 "nbformat_minor": 4
}
