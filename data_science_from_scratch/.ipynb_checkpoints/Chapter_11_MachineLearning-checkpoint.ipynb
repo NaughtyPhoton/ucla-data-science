{
 "cells": [
  {
   "cell_type": "markdown",
   "metadata": {},
   "source": [
    "# Machine Learning\n",
    "Most people think that data science is adjusting machine learning models.. it is not.  It is mostly turning business problems into data, collecting data, understanding it, cleaning it. Machine Learning is practially an afterthought.  Even so, it's an intersting afterthought that you pretty much habe to know in order to do data science.\n",
    "\n",
    "### Modeling\n",
    "A model is a specification of a mathematical (pr probablistic) relationship that exists between different variables.\n",
    "\n",
    "### What is Machine Learning?\n",
    "Everyone has their own definition, we will consider Machine Learning as creating and using models that are learned from data. Typically, our goal is to use existing data to develop models that we can use to predict various outcomes for new data, such as:\n",
    "- Whether an email message is spam or not\n",
    "- Whether a credit card transaction is fraudulent\n",
    "- which advertisemnt a shopper is most likely to click on\n",
    "- Which football team is going to win the Super Bowl\n",
    "\n",
    "#### Supervised\n",
    "There is a set of data labeled with the correct answers to learn from.\n",
    "\n",
    "#### Unsupervised\n",
    "There are no such labels.\n",
    "\n",
    "#### Online\n",
    "The model needs to continuosly adjust to newly arriving data.\n",
    "\n",
    "#### Reinforcement\n",
    "After making a series of predictions, the model gets a signal indicating how well it did."
   ]
  }
 ],
 "metadata": {
  "kernelspec": {
   "display_name": "Python 3",
   "language": "python",
   "name": "python3"
  },
  "language_info": {
   "codemirror_mode": {
    "name": "ipython",
    "version": 3
   },
   "file_extension": ".py",
   "mimetype": "text/x-python",
   "name": "python",
   "nbconvert_exporter": "python",
   "pygments_lexer": "ipython3",
   "version": "3.7.6"
  },
  "widgets": {
   "application/vnd.jupyter.widget-state+json": {
    "state": {},
    "version_major": 2,
    "version_minor": 0
   }
  }
 },
 "nbformat": 4,
 "nbformat_minor": 4
}
